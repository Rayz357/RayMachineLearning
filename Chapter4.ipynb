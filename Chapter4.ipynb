{
 "cells": [
  {
   "cell_type": "code",
   "execution_count": null,
   "metadata": {},
   "outputs": [],
   "source": [
    "import matplotlib.pyplot as plt\n",
    "from pathlib import Path\n",
    "import numpy as np"
   ]
  },
  {
   "cell_type": "code",
   "execution_count": null,
   "metadata": {},
   "outputs": [],
   "source": [
    "class NeuralNet(object):\n",
    "    def __init__(self, eta):\n",
    "        self.eta = eta\n",
    "        self.w = 0\n",
    "        self.b = 0\n",
    "\n",
    "    def __forward(self, x):\n",
    "        return x * self.w + self.b\n",
    "\n",
    "    def __backward(self, x, y, z):\n",
    "        dz = z - y\n",
    "        db = dz\n",
    "        dw = x * dz\n",
    "        return dw, db\n",
    "\n",
    "    def __update(self, dw, db):\n",
    "        self.w = self.w - self.eta * dw\n",
    "        self.b = self.b - self.eta * db\n",
    "\n",
    "    def train(self, dataReader):\n",
    "        for i in range(dataReader.num_train):\n",
    "            x, y = dataReader.GerSingleTrainSample(i)\n",
    "            z = self.__forward(self, x)\n",
    "            dw, db = self.__backward(self, x, y, z)\n",
    "            self.__update(self, dw, db)\n",
    "\n",
    "    def inference(self, x):\n",
    "        return self.__forward(self, x)"
   ]
  },
  {
   "cell_type": "code",
   "execution_count": null,
   "metadata": {},
   "outputs": [],
   "source": [
    "#多样本计算\n",
    "    def __forwardBatch(self, batch_x):\n",
    "        Z = np.dot(batch_x, self.w) + self.b\n",
    "        return Z\n",
    "# 多样本损失计算\n",
    "    def __checkLoss(self, dataReader):\n",
    "        X,Y = dataReader.GetWholeTrainSamples()\n",
    "        m = X.shape[0]\n",
    "        Z = self.__forwardBatch(X)\n",
    "        LOSS = (Z - Y)**2\n",
    "        loss = LOSS.sum()/m/2\n",
    "        return loss"
   ]
  },
  {
   "cell_type": "code",
   "execution_count": null,
   "metadata": {},
   "outputs": [],
   "source": [
    "class SimpleDataReader(object):\n",
    "    def __init__(self, data_file):\n",
    "        self.train_file_name = data_file\n",
    "        self.num_train = 0\n",
    "        self.XTrain = None\n",
    "        self.YTrain = None\n",
    "\n",
    "    # read data from file\n",
    "    def ReadData(self):\n",
    "        train_file = Path(self.train_file_name)\n",
    "        if train_file.exists():\n",
    "            data = np.load(self.train_file_name)\n",
    "            self.XTrain = data[\"data\"]\n",
    "            self.YTrain = data[\"label\"]\n",
    "            self.num_train = self.XTrain.shape[0]\n",
    "        else:\n",
    "            raise Exception(\"Cannot find train file!!!\")\n",
    "        # end if\n",
    "\n",
    "    # get batch training data\n",
    "    def GetSingleTrainSample(self, iteration):\n",
    "        x = self.XTrain[iteration]\n",
    "        y = self.YTrain[iteration]\n",
    "        return x, y\n",
    "        \n"
   ]
  },
  {
   "cell_type": "code",
   "execution_count": null,
   "metadata": {},
   "outputs": [],
   "source": [
    "def ShowResult(SimpleDataReader,net):\n",
    "    X, Y = SimpleDataReader.GetWholeTrainSamples()\n",
    "    # draw sample data\n",
    "    plt.plot(X, Y, \"b.\")\n",
    "    # draw predication data\n",
    "    PX = np.linspace(0, 1, 10)\n",
    "    PZ = net.inference(PX)\n",
    "    plt.plot(PX, PZ, \"r\")\n",
    "    plt.title(\"Air Conditioner Power\")\n",
    "    plt.xlabel(\"Number of Servers(K)\")\n",
    "    plt.ylabel(\"Power of Air Conditioner(KW)\")\n",
    "    plt.show()"
   ]
  },
  {
   "cell_type": "code",
   "execution_count": null,
   "metadata": {},
   "outputs": [],
   "source": [
    "#if __name__=='__main__':\n",
    "data_file='D:\\NeuroNetwork\\Chapter2.npz'#缺失\n",
    "sdr=SimpleDataReader(data_file)\n",
    "sdr.ReadData()\n",
    "eta=0.1\n",
    "net=NeuralNet(eta)\n",
    "net.train(sdr)\n",
    "#result\n",
    "print(\"w=%f4,b=%f4\" %(net.w,net.b))\n",
    "#predication\n",
    "result = net.inference(0.346)\n",
    "print(\"result=%f4\" %result)\n",
    "ShowResult(sdr,net)"
   ]
  }
 ],
 "metadata": {
  "kernelspec": {
   "display_name": "NeruralNetwork",
   "language": "python",
   "name": "python3"
  },
  "language_info": {
   "name": "python",
   "version": "3.10.1"
  },
  "orig_nbformat": 4
 },
 "nbformat": 4,
 "nbformat_minor": 2
}
