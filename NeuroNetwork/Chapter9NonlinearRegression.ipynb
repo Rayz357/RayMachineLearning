{
 "cells": [
  {
   "cell_type": "markdown",
   "metadata": {},
   "source": [
    "- 使用DataReader类替代SimpleDataReader类，可以使用留出法监控训练过程  \n",
    "  - 既有训练集，又有测试集\n",
    "  - 提供GenerateValidationSet方法，生成验证集    "
   ]
  },
  {
   "cell_type": "code",
   "execution_count": null,
   "metadata": {},
   "outputs": [],
   "source": [
    "import pathlib as Path\n",
    "import numpy as np\n",
    "class DataReader(object):\n",
    "    def __init__(self, train_file, test_file):\n",
    "        self.train_file_name= train_file\n",
    "        self.test_file_name=test_file\n",
    "        self.num_train=0\n",
    "        self.num_test=0\n",
    "        self.num_validation=0\n",
    "        self.num_feature=0\n",
    "        self.num_category=0\n",
    "        self.XTrain=None\n",
    "        self.YTrain=None\n",
    "        self.XTest=None\n",
    "        self.YTest=None\n",
    "        self.XTrainRaw=None\n",
    "        self.YTrainRaw=None\n",
    "        self.XTestRaw=None\n",
    "        self.YTestRaw=None #未归一化\n",
    "        self.XVld=None #validation feature set\n",
    "        self.YVld=None #validation label set\n",
    "\n",
    "    # read data from file\n",
    "    def ReadData(self):\n",
    "        train_file=Path(self.train_file_name)\n",
    "        if train_file.exists():\n",
    "            self.XTrain=self.XTrainRaw\n",
    "            self.YTrain=self.YTrainRaw\n",
    "\n",
    "        test_file=Path(self.test_file_name)\n",
    "        if test_file.exists():\n",
    "            self.XTest=self.XTestRaw\n",
    "            self.YTest=self.YTestRaw\n",
    "    #特征值归一化   \n",
    "    def NormalizeX(self):\n",
    "        x_merge=np.vstack(  (self.XTrainRaw, self.XTestRaw)  )# 先合并再归一化\n",
    "        x_merge_norm-self.__NormalizeX(x_merge)\n",
    "        train_count=self.XTrainRaw.shape[0]\n",
    "        self.XTrain=x_merge_norm[0:train_count,:]\n",
    "        self.XTest=x_merge_norm[train_count:,:]"
   ]
  }
 ],
 "metadata": {
  "kernelspec": {
   "display_name": "NeruralNetwork",
   "language": "python",
   "name": "python3"
  },
  "language_info": {
   "codemirror_mode": {
    "name": "ipython",
    "version": 3
   },
   "file_extension": ".py",
   "mimetype": "text/x-python",
   "name": "python",
   "nbconvert_exporter": "python",
   "pygments_lexer": "ipython3",
   "version": "3.10.1"
  },
  "orig_nbformat": 4
 },
 "nbformat": 4,
 "nbformat_minor": 2
}
