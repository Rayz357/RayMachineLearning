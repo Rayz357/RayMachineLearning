{
 "cells": [
  {
   "cell_type": "code",
   "execution_count": null,
   "metadata": {},
   "outputs": [],
    "import numpy as np\n",
    "import matplotlib.pyplot as plt\n",
    "\n",
    "from HelperClass2.NeuralNet_2_2 import *\n",
    "from HelperClass2.Visualizer_1_1 import *\n",
    "\n",
    "train_data_name = \"D:/Python3/NeruralNetwork/NeuroNetwork/ai-edu-0.3.0/基础教程/A2-神经网络基本原理/第5步 - 非线性分类/src/ch11-NonLinearMultipleClassification/ch11.train.npz\"\n",
    "test_data_name = \"D:/Python3/NeruralNetwork/NeuroNetwork/ai-edu-0.3.0/基础教程/A2-神经网络基本原理/第5步 - 非线性分类/src/ch11-NonLinearMultipleClassification/ch11.test.npz\"\n",
    "\n",
    "if __name__ == '__main__':\n",
    "    dataReader = DataReader_2_0(train_data_name, test_data_name)\n",
    "    dataReader.ReadData()\n",
    "    dataReader.NormalizeY(NetType.MultipleClassifier, base=1)\n",
    "\n",
    "    fig = plt.figure(figsize=(6,6))\n",
    "    DrawThreeCategoryPoints(dataReader.XTrainRaw[:,0], dataReader.XTrainRaw[:,1], dataReader.YTrain, \"Source Data\")\n",
    "    plt.show()\n",
    "\n",
    "    dataReader.NormalizeX()\n",
    "    dataReader.Shuffle()\n",
    "    dataReader.GenerateValidationSet()\n",
    "\n",
    "    n_input = dataReader.num_feature\n",
    "    n_hidden = 3\n",
    "    n_output = dataReader.num_category\n",
    "    eta, batch_size, max_epoch = 0.1, 10, 5000\n",
    "    eps = 0.1\n",
    "\n",
    "    hp = HyperParameters_2_0(n_input, n_hidden, n_output, eta, max_epoch, batch_size, eps, NetType.MultipleClassifier, InitialMethod.Xavier)\n",
    "    net = NeuralNet_2_2(hp, \"Bank_233\")\n",
    "\n",
    "    #net.LoadResult()\n",
    "\n",
    "\n",
    "    net.train(dataReader, 100, True)\n",
    "    net.ShowTrainingHistory()\n",
    "\n",
    "    fig = plt.figure(figsize=(6,6))\n",
    "    DrawThreeCategoryPoints(dataReader.XTrain[:,0], dataReader.XTrain[:,1], dataReader.YTrain, hp.toString())\n",
    "    ShowClassificationResult25D(net, 50, hp.toString())\n",
    "    plt.show()\n"
   ]
  }
 ],
 "metadata": {
  "language_info": {
   "name": "python"
  },
  "orig_nbformat": 4
 },
 "nbformat": 4,
 "nbformat_minor": 2
}
